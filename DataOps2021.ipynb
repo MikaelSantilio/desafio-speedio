{
  "nbformat": 4,
  "nbformat_minor": 0,
  "metadata": {
    "colab": {
      "name": "DataOps2021.ipynb",
      "provenance": [],
      "authorship_tag": "ABX9TyNBZR4tWQMcGp3RbE8Y4m3h",
      "include_colab_link": true
    },
    "kernelspec": {
      "display_name": "Python 3",
      "name": "python3"
    },
    "language_info": {
      "name": "python"
    }
  },
  "cells": [
    {
      "cell_type": "markdown",
      "metadata": {
        "id": "view-in-github",
        "colab_type": "text"
      },
      "source": [
        "<a href=\"https://colab.research.google.com/github/MikaelSantilio/desafio-speedio/blob/master/DataOps2021.ipynb\" target=\"_parent\"><img src=\"https://colab.research.google.com/assets/colab-badge.svg\" alt=\"Open In Colab\"/></a>"
      ]
    },
    {
      "cell_type": "markdown",
      "metadata": {
        "id": "ZmchgEAGpePn"
      },
      "source": [
        "# **Desafio DataOps 2021**\n",
        "\n",
        "### Atividades\n",
        "*   [x] Ler arquivos em CSVs de ESTABELECIMENTOS\n",
        "*   [x] Organizar os dados num hash/dicionario\n",
        "*   [x] Salvar no mongodb\n",
        "*   [x] Ler os dados do db e obter as seguintes informações:\n",
        "  *   [x] qual % das empresas estão ativas\n",
        "  *   [x] Quantas empresas do setor de restaurantes foram abertas em cada ano\n",
        "  *   [x] quantas empresas num raio de 5km do cep 01422000\n",
        "  *   [ ] tabela de correlação de CNAE FISCAL PRINCIPAL com os CNAE FISCAL SECUNDÁRIA\n",
        "*   [x] Exportar os dados do ponto 4 para um CSV e Excel\n",
        "\n",
        "### Instruções de execução\n",
        "\n",
        "1.   Colocar uma url do MongoDB e uma chave da API do Google Geocoders nas variáveis de ambiente [nesta célula](#scrollTo=33Irhx1KgBsi&line=1&uniqifier=1); \n",
        "2.   Executar células do \"Core\";\n",
        "2.   Executar célula \"Main\";\n",
        "\n",
        "\n",
        "### Considerações\n",
        "\n",
        "Devido a utilização de ferramentas apenas com o objetivo de testes algumas informações foram removidas.\n",
        "\n",
        "1.   Colunas não utilizadas foram removidas;\n",
        "2.   Os arquivos foram limitados a 2;\n",
        "3.   Apenas uma amostra de 20% dos dados é enviada ao banco;\n",
        "4.   O número de CEPs próxímos a localização foi limitado a 10 empresas.\n"
      ]
    },
    {
      "cell_type": "markdown",
      "metadata": {
        "id": "hMrHUL1zpsyA"
      },
      "source": [
        "## **Core**"
      ]
    },
    {
      "cell_type": "markdown",
      "metadata": {
        "id": "4MWrmSTmhGZj"
      },
      "source": [
        "### **Packages**"
      ]
    },
    {
      "cell_type": "code",
      "metadata": {
        "id": "Bm_CxMmEfIWa"
      },
      "source": [
        "!pip install pymongo[srv]==3.11.0\n",
        "!pip install wget\n",
        "!pip install geopy "
      ],
      "execution_count": null,
      "outputs": []
    },
    {
      "cell_type": "code",
      "metadata": {
        "id": "33Irhx1KgBsi"
      },
      "source": [
        "%env GOOGLE_API_KEY = <GOOGLE_API_KEY>\n",
        "%env MONGO_DB_URL = <MONGO_DB_URL>"
      ],
      "execution_count": null,
      "outputs": []
    },
    {
      "cell_type": "code",
      "metadata": {
        "id": "1tnF0EXEgfJx"
      },
      "source": [
        "import os\n",
        "import re\n",
        "from zipfile import ZipFile\n",
        "import pandas as pd\n",
        "import requests\n",
        "from geopy.distance import geodesic\n",
        "from geopy.geocoders import GoogleV3\n",
        "from geopy import Point\n",
        "from bs4 import BeautifulSoup\n",
        "from sklearn.model_selection import train_test_split\n",
        "import numpy as np\n",
        "import wget\n",
        "import pymongo"
      ],
      "execution_count": null,
      "outputs": []
    },
    {
      "cell_type": "markdown",
      "metadata": {
        "id": "IDMjqknZhAeK"
      },
      "source": [
        "### **Utils**"
      ]
    },
    {
      "cell_type": "code",
      "metadata": {
        "id": "ftuiAaIlgbE8"
      },
      "source": [
        "def get_or_create_dir(path: str) -> str:\n",
        "    if not os.path.exists(path):\n",
        "        os.mkdir(path)\n",
        "    return path\n",
        "\n",
        "\n",
        "# Database\n",
        "# ------------------------------------------------------------------------------\n",
        "MONGO_DB_URL = os.getenv(\"MONGO_DB_URL\")\n",
        "\n",
        "# Google API\n",
        "# ------------------------------------------------------------------------------\n",
        "GOOGLE_API_KEY = os.getenv(\"GOOGLE_API_KEY\")\n",
        "\n",
        "# OS Path\n",
        "# ------------------------------------------------------------------------------\n",
        "CURRENT_WORK_DIR = os.getcwd()\n",
        "DOWNLOAD_DIR = get_or_create_dir(os.path.join(os.getcwd(), \"zip_files/\"))\n",
        "EXTRACTION_DIR = get_or_create_dir(os.path.join(os.getcwd(), \"files/\"))\n",
        "\n",
        "# Columns Dataframe\n",
        "# ------------------------------------------------------------------------------\n",
        "\n",
        "COLUMNS = [\n",
        "    \"cnpj_basico\",\n",
        "    \"cnpj_ordem\",\n",
        "    \"cnpj_dv\",\n",
        "    \"cnpj_identificador\",\n",
        "    \"nome\",\n",
        "    \"sit_cadas\",\n",
        "    \"dt_sit_cadas\",\n",
        "    \"mot_sit_cadas\",\n",
        "    \"nome_cidade_exterior\",\n",
        "    \"pais\",\n",
        "    \"dt_ini_atv\",\n",
        "    \"cnae_1\",\n",
        "    \"cnae_2\",\n",
        "    \"tipo_logradouro\",\n",
        "    \"logradouro\",\n",
        "    \"numero\",\n",
        "    \"complemento\",\n",
        "    \"bairro\",\n",
        "    \"cep\",\n",
        "    \"uf\",\n",
        "    \"municipio\",\n",
        "    \"ddd_1\",\n",
        "    \"telefone_1\",\n",
        "    \"ddd_2\",\n",
        "    \"telefone_2\",\n",
        "    \"ddd_fax\",\n",
        "    \"fax\",\n",
        "    \"email\",\n",
        "    \"sit_especial\",\n",
        "    \"dt_sit_especial\"\n",
        "]\n",
        "DROP_COLUMNS = {\n",
        "    \"cnpj_ordem\",\n",
        "    \"dt_sit_cadas\",\n",
        "    \"mot_sit_cadas\",\n",
        "    \"nome_cidade_exterior\",\n",
        "    \"pais\",\n",
        "    \"tipo_logradouro\",\n",
        "    \"logradouro\",\n",
        "    \"numero\",\n",
        "    \"complemento\",\n",
        "    \"bairro\",\n",
        "    \"uf\",\n",
        "    \"municipio\",\n",
        "    \"ddd_1\",\n",
        "    \"telefone_1\",\n",
        "    \"ddd_2\",\n",
        "    \"telefone_2\",\n",
        "    \"ddd_fax\",\n",
        "    \"fax\",\n",
        "    \"email\",\n",
        "    \"sit_especial\",\n",
        "    \"dt_sit_especial\"\n",
        "}\n",
        "\n",
        "USERCOLS = set(COLUMNS) - DROP_COLUMNS\n",
        "DROP_COLUMNS_CNPJ = [\"cnpj_basico\", \"cnpj_dv\", \"cnpj_identificador\", \"divisao_subsetor\"]\n",
        "\n",
        "def bytes_to(bytes, to, bsize=1024):\n",
        "    a = {'k' : 1, 'm': 2, 'g' : 3, 't' : 4, 'p' : 5, 'e' : 6 }\n",
        "    r = float(bytes)\n",
        "    for i in range(a[to]):\n",
        "        r = r / bsize\n",
        "    return(r)\n",
        "\n",
        "def bar_progress(current, total, width=80):\n",
        "  current = bytes_to(current, 'm')\n",
        "  total = bytes_to(total, 'm')\n",
        "  progress_message = \"%s: %.2f%% [%.2f / %.2f] Mb\" % ('Download', current / total * 100, current, total)\n",
        "\n",
        "  os.sys.stdout.write(\"\\r\" + progress_message)\n",
        "  os.sys.stdout.flush()"
      ],
      "execution_count": 55,
      "outputs": []
    },
    {
      "cell_type": "markdown",
      "metadata": {
        "id": "BQwcOPivgxgk"
      },
      "source": [
        "### **Classe para obter dados**\n",
        "\n",
        "Suas funcionalidades são o download, extração, limpeza e envio para o MongoDB dos arquivos de Estabelecimentos do site da Receita Federal.\n",
        "\n",
        "#### **Para iniciar o processo**\n",
        "```python\n",
        "ExtractEstabelecimentosReceita().extract_and_upload_files()\n",
        "```"
      ]
    },
    {
      "cell_type": "code",
      "metadata": {
        "id": "rh5LEkUggsij"
      },
      "source": [
        "class ExtractEstabelecimentosReceita:\n",
        "    page_url: str = \"https://www.gov.br/receitafederal/pt-br/assuntos/orientacao-tributaria/cadastros/consultas/dados-publicos-cnpj\"\n",
        "    limit_files: int = 2\n",
        "\n",
        "    def extract_and_upload_files(self) -> None:\n",
        "        links = self.get_links_estabelecimentos()\n",
        "        local_downloads = next(os.walk(DOWNLOAD_DIR), (None, None, []))[2]\n",
        "        local_extractions = next(os.walk(EXTRACTION_DIR), (None, None, []))[2]\n",
        "        db = EstabelecimentoCollection()\n",
        "\n",
        "        if self.limit_files:\n",
        "            links = links[:self.limit_files]\n",
        "\n",
        "        for link in links:\n",
        "            file_basename = os.path.basename(link)\n",
        "            file_name = os.path.splitext(file_basename)[0]\n",
        "            print(f'\\nArquivo {file_basename}')\n",
        "\n",
        "            if not file_basename in local_downloads:\n",
        "                wget.download(link, out=DOWNLOAD_DIR, bar=bar_progress)\n",
        "\n",
        "            if not file_name in local_extractions:\n",
        "                ZipFile(os.path.join(DOWNLOAD_DIR, file_basename), 'r').extractall(EXTRACTION_DIR)\n",
        "                print(f\"\\n{file_name} Extraído\")\n",
        "\n",
        "            dataframe = self.read_file(os.path.join(EXTRACTION_DIR, file_name))\n",
        "            dataframe = self.clear_dataframe(dataframe)\n",
        "\n",
        "            db.insert_dataframe(dataframe)\n",
        "            print(f\"\\n{file_name} Enviado\")\n",
        "\n",
        "    def get_links_estabelecimentos(self) -> list:\n",
        "        response = requests.get(self.page_url)\n",
        "        soup = BeautifulSoup(response.text)\n",
        "\n",
        "        return [link[\"href\"] for link in soup.find_all(\"a\", {\"href\": re.compile(\"ESTABELE\")})]\n",
        "\n",
        "    def read_file(self, url_path: str) -> pd.DataFrame:\n",
        "        return pd.read_table(\n",
        "            url_path,\n",
        "            sep=\";\",\n",
        "            names=COLUMNS,\n",
        "            usecols=USERCOLS,\n",
        "            dtype={c: str for c in USERCOLS},\n",
        "            encoding=\"iso-8859-1\"\n",
        "        )\n",
        "\n",
        "    def clear_dataframe(self, dataframe: pd.DataFrame) -> pd.DataFrame:\n",
        "        dataframe = dataframe[dataframe['cep'].notnull()]\n",
        "        dataframe = dataframe[dataframe.duplicated(subset=['cep'], keep=False)]\n",
        "        dataframe = dataframe[dataframe.duplicated(\n",
        "            subset=['cnae_1'], keep=False)]\n",
        "\n",
        "        dataframe['divisao_subsetor'] = dataframe.apply(lambda row: str(row['cep'])[:5], axis=1)\n",
        "        dataframe = dataframe[dataframe.duplicated(subset=['cnae_1', 'divisao_subsetor'], keep=False)]\n",
        "\n",
        "        # Stratified sampling\n",
        "        X_train, X_test, y_train, y_test = train_test_split(dataframe.drop(['cnae_1', 'divisao_subsetor'], axis=1),\n",
        "                                                            dataframe[['cnae_1', 'divisao_subsetor']],\n",
        "                                                            stratify=dataframe[['cnae_1', 'divisao_subsetor']], test_size=0.2)\n",
        "        del X_train, y_train\n",
        "        split_frames = [X_test, y_test]\n",
        "        dataframe = pd.concat(split_frames, axis=1, join='inner')\n",
        "\n",
        "        dataframe['cnae_2'] = dataframe.apply(lambda row: row['cnae_2'].split(',') if type(row['cnae_2']) == str else np.nan, axis=1)\n",
        "        dataframe[\"dt_ini_atv\"] = pd.to_datetime(dataframe[\"dt_ini_atv\"], errors = 'coerce')\n",
        "        dataframe['cnpj'] = dataframe.apply(\n",
        "            lambda x: self.format_cnpj(\n",
        "                x['cnpj_basico'], x['cnpj_dv'], x['cnpj_identificador']),\n",
        "            axis=1\n",
        "        )\n",
        "        dataframe.drop(DROP_COLUMNS_CNPJ, axis=1, inplace=True)\n",
        "        dataframe.reset_index(drop=True, inplace=True)\n",
        "        dataframe.dropna(subset=['dt_ini_atv'], inplace=True)\n",
        "\n",
        "        # Reorder columns\n",
        "        cols = dataframe.columns.tolist()\n",
        "        cols.remove('cnae_1')\n",
        "        cols.remove('cnae_2')\n",
        "        cols.append('cnae_1')\n",
        "        cols.append('cnae_2')\n",
        "        dataframe = dataframe[cols]\n",
        "        dataframe.fillna(\"-\",inplace=True)\n",
        "\n",
        "        return dataframe\n",
        "\n",
        "    def format_cnpj(self, basic: str, dv: str, identifier: str) -> str:\n",
        "        identifier = identifier.zfill(4)\n",
        "        return '{}.{}.{}/{}-{}'.format(basic[:2], basic[2:5], basic[5:], identifier, dv)\n"
      ],
      "execution_count": 77,
      "outputs": []
    },
    {
      "cell_type": "markdown",
      "metadata": {
        "id": "RmO3vKbFg6Y6"
      },
      "source": [
        "### **Classe de manipulação do MongoDB**\n",
        "\n",
        "Suas funcionalidades são o envio de DataFrames Pandas para o MongoDB e a exportação dos relatórios.\n",
        "\n",
        "#### **Para enviar um DataFrame**\n",
        "```python\n",
        "EstabelecimentoCollection().insert_dataframe(dataframe: pd.DataFrame)\n",
        "```\n",
        "\n",
        "#### **Para exportar os relatórios**\n",
        "```python\n",
        "EstabelecimentoCollection().export_reports(export_format: str)\n",
        "```"
      ]
    },
    {
      "cell_type": "code",
      "metadata": {
        "id": "CTuEtjSWgigw"
      },
      "source": [
        "class EstabelecimentoCollection:\n",
        "\n",
        "    db = None\n",
        "    collection = None\n",
        "\n",
        "    def __init__(self) -> None:\n",
        "        client = pymongo.MongoClient(MONGO_DB_URL)\n",
        "        self.db = client.receita\n",
        "        self.collection = self.db.estabelecimentos\n",
        "\n",
        "    def insert_dataframe(self, dataframe: pd.DataFrame) -> None:\n",
        "        data_dict = dataframe.to_dict(\"records\")\n",
        "        self.collection.insert_many(data_dict)\n",
        "\n",
        "    def get_report_active_companies(self) -> list:\n",
        "        pipeline_percent = [\n",
        "            {\n",
        "                \"$facet\": {\n",
        "                    \"actives\": [\n",
        "                        {\"$match\": {\"sit_cadas\": {\"$regex\": \"02\"}}},\n",
        "                        {\n",
        "                            \"$group\": {\n",
        "                                \"_id\": \"total\",\n",
        "                                \"count\": {\n",
        "                                    \"$sum\": 1\n",
        "                                }\n",
        "                            }\n",
        "                        }\n",
        "                    ],\n",
        "                    \"all\": [{\n",
        "                        \"$group\": {\n",
        "                            \"_id\": \"total\",\n",
        "                            \"count\": {\n",
        "                                \"$sum\": 1\n",
        "                            }\n",
        "                        }\n",
        "                    }],\n",
        "\n",
        "                }\n",
        "            },\n",
        "            {\n",
        "                \"$project\": {\n",
        "                    \"percent\": {\n",
        "                        \"$divide\": [\n",
        "                            {\n",
        "                                \"$first\": \"$actives.count\"\n",
        "                            },\n",
        "                            {\n",
        "                                \"$first\": \"$all.count\"\n",
        "                            }\n",
        "                        ]\n",
        "                    }\n",
        "                }\n",
        "            },\n",
        "\n",
        "        ]\n",
        "        percent = list(self.collection.aggregate(pipeline_percent))[0][\"percent\"] * 100\n",
        "        filename = f\"Empresas ativas {percent:.1f} por cento\"\n",
        "        return [pd.DataFrame(list(self.collection.find({\"sit_cadas\": {\"$regex\": \"02\"}}, {\"_id\": 0}))), filename]\n",
        "\n",
        "    def get_report_restaurants_by_year(self) -> list:\n",
        "        pipeline = [\n",
        "            {\"$match\": {\"cnae_1\": {\"$regex\": \"^561\"}}},\n",
        "            {\"$group\": {\"_id\": {\"$year\": \"$dt_ini_atv\"}, \"count\": {\"$sum\": 1}}},\n",
        "            {\"$sort\": {\"_id\": -1}},\n",
        "            {\"$project\": {\n",
        "                \"ano de abertura\": \"$_id\",\n",
        "                \"quantidade\": \"$count\",\n",
        "                \"_id\": False\n",
        "            }}\n",
        "        ]\n",
        "        filename = \"Restaurantes abertos por ano\"\n",
        "        return [pd.DataFrame(list(self.collection.aggregate(pipeline))), filename]\n",
        "\n",
        "    def get_report_nearby_companies(self, cep: str = \"01422000\", distance_km: int = 5) -> pd.DataFrame:\n",
        "        pipeline = [\n",
        "            {\"$match\": {\"cep\": {\"$regex\": f\"^{cep[:4]}\"}}},\n",
        "        ]\n",
        "        dataframe = pd.DataFrame(list(self.collection.aggregate(pipeline)))\n",
        "        dataframe = dataframe[:10]\n",
        "\n",
        "        googleGeocoder = GoogleV3(api_key=GOOGLE_API_KEY)\n",
        "        location = googleGeocoder.geocode(cep, components={\"country\": \"BR\"})\n",
        "\n",
        "        dataframe = dataframe[dataframe.apply(\n",
        "            lambda row: self.calculate_distance_km(\n",
        "                location.point, googleGeocoder, row['cep'], distance_km),\n",
        "            axis=1)]\n",
        "        \n",
        "        filename = f\"Empresas em um raio de {distance_km}km do CEP {cep}\"\n",
        "        return [dataframe, filename]\n",
        "\n",
        "    def get_report_cnae_correlation(self) -> pd.DataFrame:\n",
        "        pass\n",
        "\n",
        "    def export_reports(self, export_format: str = 'csv') -> None:\n",
        "        reports = [self.get_report_active_companies, self.get_report_restaurants_by_year, self.get_report_nearby_companies]\n",
        "        for report in reports:\n",
        "          if export_format == 'csv':\n",
        "            data = report()\n",
        "            data[0].to_csv(os.path.join(CURRENT_WORK_DIR, f\"{data[1]}.csv\"))    \n",
        "          elif export_format == 'excel':\n",
        "            data = report()\n",
        "            data[0].to_excel(os.path.join(CURRENT_WORK_DIR, f\"{data[1]}.xlsx\"))\n",
        "          else:\n",
        "            raise Exception('Formato de arquivo inválido')\n",
        "          \n",
        "          print(f'{data[1]}.{export_format} exportado')\n",
        "\n",
        "    def calculate_distance_km(\n",
        "            self, point: Point, googleGeocoder: GoogleV3, cep: str, distance_km: int) -> bool:\n",
        "        location = googleGeocoder.geocode(cep, components={\"country\": \"BR\"})\n",
        "        if not location:\n",
        "          return False\n",
        "\n",
        "        return geodesic(point, location.point).km <= distance_km"
      ],
      "execution_count": 88,
      "outputs": []
    },
    {
      "cell_type": "markdown",
      "metadata": {
        "id": "5ZrtgdrlpyaC"
      },
      "source": [
        "## **Main**"
      ]
    },
    {
      "cell_type": "code",
      "metadata": {
        "colab": {
          "base_uri": "https://localhost:8080/"
        },
        "id": "kXFvWI62h572",
        "outputId": "ee11cc37-638e-4f97-fd0e-1159f918f0f1"
      },
      "source": [
        "# Extração e Upload\n",
        "extract_helper = ExtractEstabelecimentosReceita()\n",
        "extract_helper.extract_and_upload_files()\n",
        "\n",
        "# Exportação de relatórios\n",
        "EstabelecimentoCollection().export_reports(export_format='excel')\n"
      ],
      "execution_count": 89,
      "outputs": [
        {
          "output_type": "stream",
          "text": [
            "Empresas ativas 36.6 por cento.excel exportado\n",
            "Restaurantes abertos por ano.excel exportado\n",
            "Empresas em um raio de 5km do CEP 01422000.excel exportado\n"
          ],
          "name": "stdout"
        }
      ]
    }
  ]
}
